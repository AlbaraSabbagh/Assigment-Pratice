{
 "cells": [
  {
   "cell_type": "markdown",
   "id": "1dbe8dc8-940e-48bf-a942-4a0ed3806ff7",
   "metadata": {},
   "source": [
    "# Data Science Tools and Ecosystem"
   ]
  },
  {
   "cell_type": "markdown",
   "id": "47d5c2d9-a2f4-4c2c-aa9c-ea11afc49158",
   "metadata": {},
   "source": [
    "In this notebook, Data Science Tools and Ecosystem are summarized."
   ]
  },
  {
   "cell_type": "markdown",
   "id": "33d9a147-a6b7-4b4f-904b-2d7a99dd8e42",
   "metadata": {},
   "source": [
    "**Objectives:**\n",
    "1. List popular languages for Data Science\n",
    "2. List of most commonly used libraries used by Data Scientists\n",
    "3. Examples of evaluating arithmetic expressions in Python"
   ]
  },
  {
   "cell_type": "markdown",
   "id": "f73b880d-80c0-4a9a-9624-0bd876bcdb85",
   "metadata": {},
   "source": [
    "Some of the popular languages that Data Scientists use are:\n",
    "1. Python \n",
    "2. R\n",
    "3. SQL"
   ]
  },
  {
   "cell_type": "markdown",
   "id": "c41d2eaa-6171-4eef-98dc-df52a3520b42",
   "metadata": {},
   "source": [
    "Some of the commonly used libraries used by Data Scientists include:\n",
    "1. Pandas\n",
    "2. Matplotlib\n",
    "3. scikit-learn\n",
    "4. Openpyxl\n",
    "5. Numpy\n",
    "6. Scipy "
   ]
  },
  {
   "cell_type": "markdown",
   "id": "3e1112c6-ffa2-44e5-914a-09823d0549fc",
   "metadata": {},
   "source": [
    "| Data Science Tools| \n",
    "|:--------:|\n",
    "|  Jupyter Notebook   | \n",
    "|  Apache Zeppelin   | \n",
    "|  Spyder    | "
   ]
  },
  {
   "cell_type": "markdown",
   "id": "813cf607-0fe9-467b-bd7b-33f332e38922",
   "metadata": {},
   "source": [
    "### Below are a few examples of evaluating arithmetic expressions in Python.\n"
   ]
  },
  {
   "cell_type": "code",
   "execution_count": 6,
   "id": "737f915a-3b4c-47ba-84e2-c8032926cad3",
   "metadata": {},
   "outputs": [
    {
     "data": {
      "text/plain": [
       "17"
      ]
     },
     "execution_count": 6,
     "metadata": {},
     "output_type": "execute_result"
    }
   ],
   "source": [
    "#This a simple arithmetic expression to mutiply then add integers\n",
    "(3*4)+5"
   ]
  },
  {
   "cell_type": "code",
   "execution_count": 12,
   "id": "c3b50023-99dc-4e43-b395-8d88af3facec",
   "metadata": {},
   "outputs": [
    {
     "data": {
      "text/plain": [
       "('Number of Hours ', 3.3333333333333335)"
      ]
     },
     "execution_count": 12,
     "metadata": {},
     "output_type": "execute_result"
    }
   ],
   "source": [
    "#This will convert 200 minutes to hours by diving by 60\n",
    "Mins = 200\n",
    "Hours = Mins / 60\n",
    "(\"Number of Hours \",Hours)"
   ]
  },
  {
   "cell_type": "markdown",
   "id": "f7a54e44-bd34-42af-9f45-b0015f4f218e",
   "metadata": {},
   "source": [
    "## Author \n",
    "Albara' Sabbagh"
   ]
  }
 ],
 "metadata": {
  "kernelspec": {
   "display_name": "Python 3 (ipykernel)",
   "language": "python",
   "name": "python3"
  },
  "language_info": {
   "codemirror_mode": {
    "name": "ipython",
    "version": 3
   },
   "file_extension": ".py",
   "mimetype": "text/x-python",
   "name": "python",
   "nbconvert_exporter": "python",
   "pygments_lexer": "ipython3",
   "version": "3.11.7"
  }
 },
 "nbformat": 4,
 "nbformat_minor": 5
}
